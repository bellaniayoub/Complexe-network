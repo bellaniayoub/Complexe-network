{
 "cells": [
  {
   "cell_type": "code",
   "id": "initial_id",
   "metadata": {
    "collapsed": true,
    "ExecuteTime": {
     "end_time": "2024-05-15T09:39:11.029019Z",
     "start_time": "2024-05-15T09:38:55.262473Z"
    }
   },
   "source": [
    "import random\n",
    "\n",
    "import numpy as np\n",
    "import pandas as pd\n",
    "from sklearn.model_selection import train_test_split\n",
    "from sklearn.preprocessing import StandardScaler\n",
    "import tensorflow as tf\n",
    "import networkx as nx"
   ],
   "execution_count": 1,
   "outputs": []
  },
  {
   "metadata": {
    "ExecuteTime": {
     "end_time": "2024-05-14T23:48:33.987035Z",
     "start_time": "2024-05-14T23:48:33.887470Z"
    }
   },
   "cell_type": "code",
   "source": [
    "\n",
    "df = pd.DataFrame({\"node1\":[],\"node2\":[], \"node3\":[], \"influence1\":[], \"influence2\":[], \"influence3\":[]})\n",
    "for i in range(50):\n",
    "    G = nx.gnp_random_graph(3, 0.5)\n",
    "    node = []\n",
    "    for j in range(3):\n",
    "        node.append(random.randint(0,1))\n",
    "    degree_centrality = nx.degree_centrality(G)\n",
    "    included = list(degree_centrality.values())+node\n",
    "    df.loc[len(df)] = included\n",
    "    \n",
    "len(df)"
   ],
   "id": "9a94ac29835cbec5",
   "execution_count": 108,
   "outputs": []
  },
  {
   "metadata": {
    "ExecuteTime": {
     "end_time": "2024-05-14T12:24:53.262683Z",
     "start_time": "2024-05-14T12:24:53.249967Z"
    }
   },
   "cell_type": "code",
   "source": "print(closeness_centrality)",
   "id": "9c338e71647eab36",
   "execution_count": 43,
   "outputs": []
  },
  {
   "metadata": {
    "ExecuteTime": {
     "end_time": "2024-05-14T23:34:15.912498Z",
     "start_time": "2024-05-14T23:34:15.893757Z"
    }
   },
   "cell_type": "code",
   "source": [
    "df = pd.DataFrame({\"Node1_degree\":degree_centrality[:][0],\"Node2_degree\":degree_centrality[:][1],\"Node3_degree\":degree_centrality[:][2],\"Influence0\":nodes_influence[:][0],\"Influence1\":nodes_influence[:][1],\"Influence2\":nodes_influence[:][2] })\n",
    "df.head()"
   ],
   "id": "f724c8142d1c6d41",
   "execution_count": 94,
   "outputs": []
  },
  {
   "metadata": {
    "ExecuteTime": {
     "end_time": "2024-05-13T17:11:15.021113Z",
     "start_time": "2024-05-13T17:11:14.998260Z"
    }
   },
   "cell_type": "code",
   "source": "pd",
   "id": "692636ad666330e",
   "execution_count": 5,
   "outputs": []
  },
  {
   "metadata": {
    "ExecuteTime": {
     "end_time": "2024-05-14T23:48:47.944219Z",
     "start_time": "2024-05-14T23:48:47.928230Z"
    }
   },
   "cell_type": "code",
   "source": [
    "X = df.iloc[:,:-3].values\n",
    "Y = df.iloc[:,-3:].values\n",
    "X"
   ],
   "id": "1bc8580910190d1f",
   "execution_count": 109,
   "outputs": []
  },
  {
   "metadata": {
    "ExecuteTime": {
     "end_time": "2024-05-14T23:48:58.133359Z",
     "start_time": "2024-05-14T23:48:58.118284Z"
    }
   },
   "cell_type": "code",
   "source": "Y",
   "id": "1a39e76043e67db8",
   "execution_count": 110,
   "outputs": []
  },
  {
   "metadata": {
    "ExecuteTime": {
     "end_time": "2024-05-14T12:09:28.965223Z",
     "start_time": "2024-05-14T12:09:28.926878Z"
    }
   },
   "cell_type": "code",
   "source": [
    "X = X.values\n",
    "Y = Y.values"
   ],
   "id": "347f02cb306d0fd5",
   "execution_count": 32,
   "outputs": []
  },
  {
   "metadata": {
    "ExecuteTime": {
     "end_time": "2024-05-15T09:42:50.251049Z",
     "start_time": "2024-05-15T09:42:50.238104Z"
    }
   },
   "cell_type": "code",
   "source": "X_train, X_test, y_train, y_test = train_test_split(X, Y, test_size=0.25, random_state=42)",
   "id": "66431de89cee2ac1",
   "execution_count": 6,
   "outputs": []
  },
  {
   "metadata": {
    "ExecuteTime": {
     "end_time": "2024-05-15T09:42:51.995605Z",
     "start_time": "2024-05-15T09:42:51.975751Z"
    }
   },
   "cell_type": "code",
   "source": "y_train",
   "id": "47daff6ad40e4c5f",
   "execution_count": 7,
   "outputs": []
  },
  {
   "metadata": {
    "ExecuteTime": {
     "end_time": "2024-05-15T09:42:56.716462Z",
     "start_time": "2024-05-15T09:42:56.646658Z"
    }
   },
   "cell_type": "code",
   "source": [
    "model =tf.keras.Sequential([\n",
    "                            tf.keras.layers.Dense(9, activation='relu'),\n",
    "                            tf.keras.layers.Dense(9, activation='relu'),\n",
    "                            tf.keras.layers.Dense(1, activation='sigmoid')])"
   ],
   "id": "f21d8d84b343416b",
   "execution_count": 8,
   "outputs": []
  },
  {
   "metadata": {
    "ExecuteTime": {
     "end_time": "2024-05-14T16:14:14.493843Z",
     "start_time": "2024-05-14T16:14:14.448474Z"
    }
   },
   "cell_type": "code",
   "source": [
    "X = X.values()\n",
    "X"
   ],
   "id": "b946c1b7959a810c",
   "execution_count": 68,
   "outputs": []
  },
  {
   "metadata": {
    "ExecuteTime": {
     "end_time": "2024-05-15T09:43:50.645344Z",
     "start_time": "2024-05-15T09:43:48.824782Z"
    }
   },
   "cell_type": "code",
   "source": "model.evaluate(X_train,y_train)",
   "id": "f665da447575572c",
   "execution_count": 10,
   "outputs": []
  },
  {
   "metadata": {
    "ExecuteTime": {
     "end_time": "2024-05-15T09:43:43.647351Z",
     "start_time": "2024-05-15T09:43:43.479261Z"
    }
   },
   "cell_type": "code",
   "source": [
    "model.compile(optimizer=tf.keras.optimizers.Adam(learning_rate=0.001),\n",
    "                         loss=tf.keras.losses.BinaryCrossentropy(),\n",
    "                            metrics=['accuracy'])"
   ],
   "id": "4961b5b52d5b1bfe",
   "execution_count": 9,
   "outputs": []
  },
  {
   "metadata": {},
   "cell_type": "code",
   "execution_count": null,
   "source": "",
   "id": "577780785e381fd5",
   "outputs": []
  },
  {
   "metadata": {
    "ExecuteTime": {
     "end_time": "2024-05-14T12:05:07.623167Z",
     "start_time": "2024-05-14T12:05:07.609602Z"
    }
   },
   "cell_type": "code",
   "source": "type(X_train)",
   "id": "cf740b1bc3336bfb",
   "execution_count": 21,
   "outputs": []
  },
  {
   "metadata": {
    "ExecuteTime": {
     "end_time": "2024-05-15T09:44:39.316975Z",
     "start_time": "2024-05-15T09:44:03.705545Z"
    }
   },
   "cell_type": "code",
   "source": "model.fit(X_train, y_train, batch_size=16, epochs=200,)",
   "id": "e355f140b6057ec9",
   "execution_count": 11,
   "outputs": []
  },
  {
   "metadata": {
    "ExecuteTime": {
     "end_time": "2024-05-15T09:45:13.855200Z",
     "start_time": "2024-05-15T09:45:13.654540Z"
    }
   },
   "cell_type": "code",
   "source": "model.evaluate(X_test, y_test)",
   "id": "869615c36371efeb",
   "execution_count": 12,
   "outputs": []
  },
  {
   "metadata": {
    "ExecuteTime": {
     "end_time": "2024-05-15T09:41:50.368832Z",
     "start_time": "2024-05-15T09:41:49.246940Z"
    }
   },
   "cell_type": "code",
   "source": [
    "ddf = pd.DataFrame({\"degree\":[],\"node\":[]})\n",
    "for i in range(50):\n",
    "    n = random.randint(5, 15)\n",
    "    G = nx.gnp_random_graph(n, 0.5)\n",
    "    node = []\n",
    "    for j in range(n):\n",
    "        node.append(random.randint(0,1))\n",
    "    degree_centrality = nx.degree_centrality(G)\n",
    "    #included = list(degree_centrality.values())+node\n",
    "    for d, n  in zip(list(degree_centrality.values()),node):\n",
    "        included = [d, n]\n",
    "        ddf.loc[len(ddf)] = included"
   ],
   "id": "f13d4452bd304367",
   "execution_count": 2,
   "outputs": []
  },
  {
   "metadata": {
    "ExecuteTime": {
     "end_time": "2024-05-15T09:41:51.463005Z",
     "start_time": "2024-05-15T09:41:51.433289Z"
    }
   },
   "cell_type": "code",
   "source": "ddf.head()",
   "id": "3bcf3c25ddaffad9",
   "execution_count": 3,
   "outputs": []
  },
  {
   "metadata": {
    "ExecuteTime": {
     "end_time": "2024-05-15T00:31:23.912324Z",
     "start_time": "2024-05-15T00:31:23.900225Z"
    }
   },
   "cell_type": "code",
   "source": "len(ddf)",
   "id": "3523994952a34b8b",
   "execution_count": 142,
   "outputs": []
  },
  {
   "metadata": {
    "ExecuteTime": {
     "end_time": "2024-05-15T09:42:31.749743Z",
     "start_time": "2024-05-15T09:42:31.729745Z"
    }
   },
   "cell_type": "code",
   "source": [
    "X = ddf.iloc[:, :-1].values\n",
    "Y = ddf.iloc[:, -1].values"
   ],
   "id": "3771c5164df8d808",
   "execution_count": 4,
   "outputs": []
  },
  {
   "metadata": {
    "ExecuteTime": {
     "end_time": "2024-05-15T09:42:32.760893Z",
     "start_time": "2024-05-15T09:42:32.734067Z"
    }
   },
   "cell_type": "code",
   "source": "X",
   "id": "fa3bed6c17f00afc",
   "execution_count": 5,
   "outputs": []
  },
  {
   "metadata": {
    "ExecuteTime": {
     "end_time": "2024-05-15T10:46:30.744892Z",
     "start_time": "2024-05-15T10:46:30.672597Z"
    }
   },
   "cell_type": "code",
   "source": "X_train, X_test, y_train, y_test = train_test_split(X, Y, test_size=0.25, random_state=42)",
   "id": "f8b1e559be5ffb6e",
   "execution_count": 13,
   "outputs": []
  },
  {
   "metadata": {},
   "cell_type": "code",
   "execution_count": null,
   "source": "",
   "id": "32655a09e8db80b5",
   "outputs": []
  }
 ],
 "metadata": {
  "kernelspec": {
   "display_name": "Python 3",
   "language": "python",
   "name": "python3"
  },
  "language_info": {
   "codemirror_mode": {
    "name": "ipython",
    "version": 2
   },
   "file_extension": ".py",
   "mimetype": "text/x-python",
   "name": "python",
   "nbconvert_exporter": "python",
   "pygments_lexer": "ipython2",
   "version": "2.7.6"
  }
 },
 "nbformat": 4,
 "nbformat_minor": 5
}
