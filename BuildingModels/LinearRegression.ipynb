{
 "cells": [
  {
   "cell_type": "code",
   "id": "initial_id",
   "metadata": {
    "collapsed": true,
    "ExecuteTime": {
     "end_time": "2024-05-15T16:55:52.028656Z",
     "start_time": "2024-05-15T16:55:39.958952Z"
    }
   },
   "source": [
    "import networkx as nx\n",
    "import pandas as pd\n",
    "import numpy as np\n",
    "import tensorflow as tf\n",
    "from sklearn.model_selection import train_test_split\n",
    "from imblearn.over_sampling import RandomOverSampler\n",
    "from sklearn.preprocessing import StandardScaler\n",
    "from sklearn.preprocessing import OneHotEncoder\n",
    "from sklearn.linear_model import LinearRegression"
   ],
   "execution_count": 1,
   "outputs": []
  },
  {
   "metadata": {
    "ExecuteTime": {
     "end_time": "2024-05-15T16:56:50.718472Z",
     "start_time": "2024-05-15T16:56:50.653259Z"
    }
   },
   "cell_type": "code",
   "source": [
    "df = pd.read_csv(\"econ-beacxc.mtx\", sep=' ')\n",
    "df.head()"
   ],
   "id": "4309bd9cbded4642",
   "execution_count": 2,
   "outputs": []
  },
  {
   "metadata": {
    "ExecuteTime": {
     "end_time": "2024-05-15T16:57:05.122177Z",
     "start_time": "2024-05-15T16:57:04.959538Z"
    }
   },
   "cell_type": "code",
   "source": "G = nx.from_pandas_edgelist(df, \"Source\", \"Target\")",
   "id": "76ced0f10e8175d7",
   "execution_count": 3,
   "outputs": []
  },
  {
   "metadata": {
    "ExecuteTime": {
     "end_time": "2024-05-15T16:57:21.559196Z",
     "start_time": "2024-05-15T16:57:13.935217Z"
    }
   },
   "cell_type": "code",
   "source": "nx.draw(G)",
   "id": "2cc596c3a6011b91",
   "execution_count": 4,
   "outputs": []
  },
  {
   "metadata": {
    "ExecuteTime": {
     "end_time": "2024-05-15T16:58:03.011912Z",
     "start_time": "2024-05-15T16:57:41.020844Z"
    }
   },
   "cell_type": "code",
   "source": [
    "degree_centrality = nx.degree_centrality(G)\n",
    "closeness_centrality = nx.closeness_centrality(G)\n",
    "betweeness_centrality = nx.betweenness_centrality(G)"
   ],
   "id": "6e62a8187cf80020",
   "execution_count": 5,
   "outputs": []
  },
  {
   "metadata": {
    "ExecuteTime": {
     "end_time": "2024-05-15T17:03:36.804237Z",
     "start_time": "2024-05-15T17:03:36.785194Z"
    }
   },
   "cell_type": "code",
   "source": "data = pd.DataFrame({\"degree\":[], \"closeness\":[], \"betwennes\":[], \"influence\":[]})",
   "id": "c7578f54f974f51e",
   "execution_count": 19,
   "outputs": []
  },
  {
   "metadata": {
    "ExecuteTime": {
     "end_time": "2024-05-15T17:03:38.659363Z",
     "start_time": "2024-05-15T17:03:37.379236Z"
    }
   },
   "cell_type": "code",
   "source": [
    "for d, c, b in zip(list(degree_centrality.values()), list(closeness_centrality.values()),\n",
    "                   list(betweeness_centrality.values())):\n",
    "    included = [d, c, b, (d + c + b) / 3]\n",
    "    data.loc[len(data)] = included"
   ],
   "id": "228deee1d81a5541",
   "execution_count": 20,
   "outputs": []
  },
  {
   "metadata": {
    "ExecuteTime": {
     "end_time": "2024-05-15T16:58:14.545616Z",
     "start_time": "2024-05-15T16:58:14.530933Z"
    }
   },
   "cell_type": "code",
   "source": [
    "avg_influence = data['influence'].mean()\n",
    "data.loc[data['influence'] >=2*avg_influence , 'influence'] = 1\n",
    "data.loc[data['influence'] <2*avg_influence , 'influence'] = 0"
   ],
   "id": "4336da0b5537c8ea",
   "execution_count": 8,
   "outputs": []
  },
  {
   "metadata": {
    "ExecuteTime": {
     "end_time": "2024-05-15T17:03:46.121918Z",
     "start_time": "2024-05-15T17:03:46.100687Z"
    }
   },
   "cell_type": "code",
   "source": "data.head()",
   "id": "8029e56bd9bd1b90",
   "execution_count": 21,
   "outputs": []
  },
  {
   "metadata": {
    "ExecuteTime": {
     "end_time": "2024-05-15T17:03:47.894898Z",
     "start_time": "2024-05-15T17:03:47.884789Z"
    }
   },
   "cell_type": "code",
   "source": [
    "X = data.iloc[:, :-1].values\n",
    "Y = data.iloc[:, -1].values"
   ],
   "id": "daa4793f37f1d2cc",
   "execution_count": 22,
   "outputs": []
  },
  {
   "metadata": {
    "ExecuteTime": {
     "end_time": "2024-05-15T17:03:49.331124Z",
     "start_time": "2024-05-15T17:03:49.320402Z"
    }
   },
   "cell_type": "code",
   "source": [
    "def Scaling(X):\n",
    "    scaler = StandardScaler()\n",
    "    X=scaler.fit_transform(X)\n",
    "    return X"
   ],
   "id": "c24ecceca3efdd44",
   "execution_count": 23,
   "outputs": []
  },
  {
   "metadata": {
    "ExecuteTime": {
     "end_time": "2024-05-15T17:03:49.927604Z",
     "start_time": "2024-05-15T17:03:49.914693Z"
    }
   },
   "cell_type": "code",
   "source": "X = Scaling(X)",
   "id": "9f92f5155b04b2b",
   "execution_count": 24,
   "outputs": []
  },
  {
   "metadata": {
    "ExecuteTime": {
     "end_time": "2024-05-15T17:03:54.087633Z",
     "start_time": "2024-05-15T17:03:50.465301Z"
    }
   },
   "cell_type": "code",
   "source": [
    "over= RandomOverSampler()\n",
    "X,Y= over.fit_resample(X,Y)"
   ],
   "id": "c420f777bc414100",
   "execution_count": 25,
   "outputs": []
  },
  {
   "metadata": {
    "ExecuteTime": {
     "end_time": "2024-05-15T17:04:00.531069Z",
     "start_time": "2024-05-15T17:04:00.521521Z"
    }
   },
   "cell_type": "code",
   "source": "X_train, X_test, y_train, y_test = train_test_split(X, Y, test_size=0.25, random_state=42)",
   "id": "cdc0abcc9a46825c",
   "execution_count": 26,
   "outputs": []
  },
  {
   "metadata": {
    "ExecuteTime": {
     "end_time": "2024-05-15T17:04:01.366865Z",
     "start_time": "2024-05-15T17:04:01.350736Z"
    }
   },
   "cell_type": "code",
   "source": [
    "regressor = LinearRegression()\n",
    "regressor.fit(X_train, y_train)"
   ],
   "id": "9170e81953107ff6",
   "execution_count": 27,
   "outputs": []
  },
  {
   "metadata": {
    "ExecuteTime": {
     "end_time": "2024-05-15T17:04:03.230085Z",
     "start_time": "2024-05-15T17:04:03.213955Z"
    }
   },
   "cell_type": "code",
   "source": [
    "y_pred = regressor.predict(X_test)\n",
    "y_pred"
   ],
   "id": "11025861a4740bbb",
   "execution_count": 28,
   "outputs": []
  },
  {
   "metadata": {
    "ExecuteTime": {
     "end_time": "2024-05-15T17:04:06.403628Z",
     "start_time": "2024-05-15T17:04:06.392377Z"
    }
   },
   "cell_type": "code",
   "source": [
    "from sklearn.metrics import r2_score\n",
    "r2_score(y_test, y_pred)"
   ],
   "id": "9a74fbea82344a8",
   "execution_count": 29,
   "outputs": []
  },
  {
   "metadata": {
    "ExecuteTime": {
     "end_time": "2024-05-15T17:01:58.311175Z",
     "start_time": "2024-05-15T17:01:58.296244Z"
    }
   },
   "cell_type": "code",
   "source": "y_test",
   "id": "5bd6e8e701673e60",
   "execution_count": 18,
   "outputs": []
  },
  {
   "metadata": {
    "ExecuteTime": {
     "end_time": "2024-05-15T17:36:18.966513Z",
     "start_time": "2024-05-15T17:36:18.913849Z"
    }
   },
   "cell_type": "code",
   "source": [
    "dff = df = pd.read_csv(\"econ-beause.mtx\", sep=' ')\n",
    "dff.head()"
   ],
   "id": "fb7d0343b68a5a19",
   "execution_count": 31,
   "outputs": []
  },
  {
   "metadata": {},
   "cell_type": "code",
   "execution_count": null,
   "source": "",
   "id": "6d422963bd75324b",
   "outputs": []
  }
 ],
 "metadata": {
  "kernelspec": {
   "display_name": "Python 3",
   "language": "python",
   "name": "python3"
  },
  "language_info": {
   "codemirror_mode": {
    "name": "ipython",
    "version": 2
   },
   "file_extension": ".py",
   "mimetype": "text/x-python",
   "name": "python",
   "nbconvert_exporter": "python",
   "pygments_lexer": "ipython2",
   "version": "2.7.6"
  }
 },
 "nbformat": 4,
 "nbformat_minor": 5
}
