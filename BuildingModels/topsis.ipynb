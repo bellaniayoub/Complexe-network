{
 "cells": [
  {
   "cell_type": "code",
   "execution_count": null,
   "id": "initial_id",
   "metadata": {
    "collapsed": true
   },
   "outputs": [],
   "source": [
    ""
   ]
  },
  {
   "metadata": {
    "ExecuteTime": {
     "end_time": "2024-05-19T19:05:40.757509Z",
     "start_time": "2024-05-19T19:05:38.674584Z"
    }
   },
   "cell_type": "code",
   "source": [
    "import numpy as np\n",
    "import warnings\n",
    "\n",
    "import pandas as pd\n",
    "\n",
    "\n",
    "class Topsis():\n",
    "    evaluation_matrix = np.array([])  # Matrix\n",
    "    weighted_normalized = np.array([])  # Weight matrix\n",
    "    normalized_decision = np.array([])  # Normalisation matrix\n",
    "    M = 0  # Number of rows\n",
    "    N = 0  # Number of columns\n",
    "\n",
    "    '''\n",
    "\tCreate an evaluation matrix consisting of m alternatives and n criteria,\n",
    "\twith the intersection of each alternative and criteria given as {\\displaystyle x_{ij}}x_{ij},\n",
    "\twe therefore have a matrix {\\displaystyle (x_{ij})_{m\\times n}}(x_{{ij}})_{{m\\times n}}.\n",
    "\t'''\n",
    "\n",
    "    def __init__(self, evaluation_matrix, weight_matrix, criteria):\n",
    "        # M×N matrix\n",
    "        self.evaluation_matrix = np.array(evaluation_matrix, dtype=\"float\")\n",
    "\n",
    "        # M alternatives (options)\n",
    "        self.row_size = len(self.evaluation_matrix)\n",
    "\n",
    "        # N attributes/criteria\n",
    "        self.column_size = len(self.evaluation_matrix[0])\n",
    "\n",
    "        # N size weight matrix\n",
    "        self.weight_matrix = np.array(weight_matrix, dtype=\"float\")\n",
    "        self.weight_matrix = self.weight_matrix/sum(self.weight_matrix)\n",
    "        self.criteria = np.array(criteria, dtype=\"float\")\n",
    "\n",
    "    '''\n",
    "\t# Step 2\n",
    "\tThe matrix {\\displaystyle (x_{ij})_{m\\times n}}(x_{{ij}})_{{m\\times n}} is then normalised to form the matrix\n",
    "\t'''\n",
    "\n",
    "    def step_2(self):\n",
    "        # normalized scores\n",
    "        self.normalized_decision = np.copy(self.evaluation_matrix)\n",
    "        sqrd_sum = np.zeros(self.column_size)\n",
    "        for i in range(self.row_size):\n",
    "            for j in range(self.column_size):\n",
    "                sqrd_sum[j] += self.evaluation_matrix[i, j]**2\n",
    "        for i in range(self.row_size):\n",
    "            for j in range(self.column_size):\n",
    "                self.normalized_decision[i,\n",
    "                                         j] = self.evaluation_matrix[i, j]/(sqrd_sum[j]**0.5)\n",
    "\n",
    "    '''\n",
    "\t# Step 3\n",
    "\tCalculate the weighted normalised decision matrix\n",
    "\t'''\n",
    "\n",
    "    def step_3(self):\n",
    "        from pdb import set_trace\n",
    "        self.weighted_normalized = np.copy(self.normalized_decision)\n",
    "        for i in range(self.row_size):\n",
    "            for j in range(self.column_size):\n",
    "                self.weighted_normalized[i, j] *= self.weight_matrix[j]\n",
    "\n",
    "    '''\n",
    "\t# Step 4\n",
    "\tDetermine the worst alternative {\\displaystyle (A_{w})}(A_{w}) and the best alternative {\\displaystyle (A_{b})}(A_{b}):\n",
    "\t'''\n",
    "\n",
    "    def step_4(self):\n",
    "        self.worst_alternatives = np.zeros(self.column_size)\n",
    "        self.best_alternatives = np.zeros(self.column_size)\n",
    "        for i in range(self.column_size):\n",
    "            if self.criteria[i]:\n",
    "                self.worst_alternatives[i] = min(\n",
    "                    self.weighted_normalized[:, i])\n",
    "                self.best_alternatives[i] = max(self.weighted_normalized[:, i])\n",
    "            else:\n",
    "                self.worst_alternatives[i] = max(\n",
    "                    self.weighted_normalized[:, i])\n",
    "                self.best_alternatives[i] = min(self.weighted_normalized[:, i])\n",
    "\n",
    "    '''\n",
    "\t# Step 5\n",
    "\tCalculate the L2-distance between the target alternative {\\displaystyle i}i and the worst condition {\\displaystyle A_{w}}A_{w}\n",
    "\t{\\displaystyle d_{iw}={\\sqrt {\\sum _{j=1}^{n}(t_{ij}-t_{wj})^{2}}},\\quad i=1,2,\\ldots ,m,}\n",
    "\tand the distance between the alternative {\\displaystyle i}i and the best condition {\\displaystyle A_{b}}A_b\n",
    "\t{\\displaystyle d_{ib}={\\sqrt {\\sum _{j=1}^{n}(t_{ij}-t_{bj})^{2}}},\\quad i=1,2,\\ldots ,m}\n",
    "\twhere {\\displaystyle d_{iw}}d_{{iw}} and {\\displaystyle d_{ib}}d_{{ib}} are L2-norm distances \n",
    "\tfrom the target alternative {\\displaystyle i}i to the worst and best conditions, respectively.\n",
    "\t'''\n",
    "\n",
    "    def step_5(self):\n",
    "        self.worst_distance = np.zeros(self.row_size)\n",
    "        self.best_distance = np.zeros(self.row_size)\n",
    "\n",
    "        self.worst_distance_mat = np.copy(self.weighted_normalized)\n",
    "        self.best_distance_mat = np.copy(self.weighted_normalized)\n",
    "\n",
    "        for i in range(self.row_size):\n",
    "            for j in range(self.column_size):\n",
    "                self.worst_distance_mat[i][j] = (self.weighted_normalized[i][j]-self.worst_alternatives[j])**2\n",
    "                self.best_distance_mat[i][j] = (self.weighted_normalized[i][j]-self.best_alternatives[j])**2\n",
    "                \n",
    "                self.worst_distance[i] += self.worst_distance_mat[i][j]\n",
    "                self.best_distance[i] += self.best_distance_mat[i][j]\n",
    "\n",
    "        for i in range(self.row_size):\n",
    "            self.worst_distance[i] = self.worst_distance[i]**0.5\n",
    "            self.best_distance[i] = self.best_distance[i]**0.5\n",
    "\n",
    "    '''\n",
    "\t# Step 6\n",
    "\tCalculate the similarity\n",
    "\t'''\n",
    "\n",
    "    def step_6(self):\n",
    "        np.seterr(all='ignore')\n",
    "        self.worst_similarity = np.zeros(self.row_size)\n",
    "        self.best_similarity = np.zeros(self.row_size)\n",
    "\n",
    "        for i in range(self.row_size):\n",
    "            # calculate the similarity to the worst condition\n",
    "            self.worst_similarity[i] = self.worst_distance[i] / \\\n",
    "                (self.worst_distance[i]+self.best_distance[i])\n",
    "\n",
    "            # calculate the similarity to the best condition\n",
    "            self.best_similarity[i] = self.best_distance[i] / \\\n",
    "                (self.worst_distance[i]+self.best_distance[i])\n",
    "    \n",
    "    def ranking(self, data):\n",
    "        return [i+1 for i in data.argsort()]\n",
    "\n",
    "    def rank_to_worst_similarity(self):\n",
    "        # return rankdata(self.worst_similarity, method=\"min\").astype(int)\n",
    "        return self.ranking(self.worst_similarity)\n",
    "\n",
    "    def rank_to_best_similarity(self):\n",
    "        # return rankdata(self.best_similarity, method='min').astype(int)\n",
    "        return self.ranking(self.best_similarity)\n",
    "\n",
    "    def calc(self):\n",
    "        print(\"Step 1\\n\", self.evaluation_matrix, end=\"\\n\\n\")\n",
    "        self.step_2()\n",
    "        print(\"Step 2\\n\", self.normalized_decision, end=\"\\n\\n\")\n",
    "        self.step_3()\n",
    "        print(\"Step 3\\n\", self.weighted_normalized, end=\"\\n\\n\")\n",
    "        self.step_4()\n",
    "        print(\"Step 4\\n\", self.worst_alternatives,\n",
    "              self.best_alternatives, end=\"\\n\\n\")\n",
    "        self.step_5()\n",
    "        print(\"Step 5\\n\", self.worst_distance, self.best_distance, end=\"\\n\\n\")\n",
    "        self.step_6()\n",
    "        print(\"Step 6\\n\", self.worst_similarity,\n",
    "              self.best_similarity, end=\"\\n\\n\")"
   ],
   "id": "9f2cbdaad2d71008",
   "outputs": [],
   "execution_count": 1
  },
  {
   "metadata": {
    "ExecuteTime": {
     "end_time": "2024-05-19T19:06:17.308774Z",
     "start_time": "2024-05-19T19:06:14.230924Z"
    }
   },
   "cell_type": "code",
   "source": [
    "#from topsis import Topsis\n",
    "import numpy as np\n",
    "\n",
    "evaluation_matrix = np.array([\n",
    "])\n",
    "\n",
    "\n",
    "weights = [5, 5, 9, 0]\n",
    "\n",
    "'''\n",
    "if higher value is preferred - True\n",
    "if lower value is preferred - False\n",
    "'''\n",
    "criterias = np.array([True, True, True, True])\n",
    "\n",
    "t = Topsis(evaluation_matrix, weights, criterias)\n",
    "\n",
    "t.calc()\n",
    "\n",
    "print(\"best_distance\\t\", t.best_distance)\n",
    "print(\"worst_distance\\t\", t.worst_distance)\n",
    "\n",
    "# print(\"weighted_normalized\",t.weighted_normalized)\n",
    "\n",
    "print(\"worst_similarity\\t\", t.worst_similarity)\n",
    "print(\"rank_to_worst_similarity\\t\", t.rank_to_worst_similarity())\n",
    "\n",
    "print(\"best_similarity\\t\", t.best_similarity)\n",
    "print(\"rank_to_best_similarity\\t\", t.rank_to_best_similarity())"
   ],
   "id": "abad6332a15312d2",
   "outputs": [
    {
     "ename": "IndexError",
     "evalue": "index 0 is out of bounds for axis 0 with size 0",
     "output_type": "error",
     "traceback": [
      "\u001B[1;31m---------------------------------------------------------------------------\u001B[0m",
      "\u001B[1;31mIndexError\u001B[0m                                Traceback (most recent call last)",
      "Cell \u001B[1;32mIn[2], line 16\u001B[0m\n\u001B[0;32m     10\u001B[0m \u001B[38;5;124;03m'''\u001B[39;00m\n\u001B[0;32m     11\u001B[0m \u001B[38;5;124;03mif higher value is preferred - True\u001B[39;00m\n\u001B[0;32m     12\u001B[0m \u001B[38;5;124;03mif lower value is preferred - False\u001B[39;00m\n\u001B[0;32m     13\u001B[0m \u001B[38;5;124;03m'''\u001B[39;00m\n\u001B[0;32m     14\u001B[0m criterias \u001B[38;5;241m=\u001B[39m np\u001B[38;5;241m.\u001B[39marray([\u001B[38;5;28;01mTrue\u001B[39;00m, \u001B[38;5;28;01mTrue\u001B[39;00m, \u001B[38;5;28;01mTrue\u001B[39;00m, \u001B[38;5;28;01mTrue\u001B[39;00m])\n\u001B[1;32m---> 16\u001B[0m t \u001B[38;5;241m=\u001B[39m Topsis(evaluation_matrix, weights, criterias)\n\u001B[0;32m     18\u001B[0m t\u001B[38;5;241m.\u001B[39mcalc()\n\u001B[0;32m     20\u001B[0m \u001B[38;5;28mprint\u001B[39m(\u001B[38;5;124m\"\u001B[39m\u001B[38;5;124mbest_distance\u001B[39m\u001B[38;5;130;01m\\t\u001B[39;00m\u001B[38;5;124m\"\u001B[39m, t\u001B[38;5;241m.\u001B[39mbest_distance)\n",
      "Cell \u001B[1;32mIn[1], line 28\u001B[0m, in \u001B[0;36mTopsis.__init__\u001B[1;34m(self, evaluation_matrix, weight_matrix, criteria)\u001B[0m\n\u001B[0;32m     25\u001B[0m \u001B[38;5;28mself\u001B[39m\u001B[38;5;241m.\u001B[39mrow_size \u001B[38;5;241m=\u001B[39m \u001B[38;5;28mlen\u001B[39m(\u001B[38;5;28mself\u001B[39m\u001B[38;5;241m.\u001B[39mevaluation_matrix)\n\u001B[0;32m     27\u001B[0m \u001B[38;5;66;03m# N attributes/criteria\u001B[39;00m\n\u001B[1;32m---> 28\u001B[0m \u001B[38;5;28mself\u001B[39m\u001B[38;5;241m.\u001B[39mcolumn_size \u001B[38;5;241m=\u001B[39m \u001B[38;5;28mlen\u001B[39m(\u001B[38;5;28mself\u001B[39m\u001B[38;5;241m.\u001B[39mevaluation_matrix[\u001B[38;5;241m0\u001B[39m])\n\u001B[0;32m     30\u001B[0m \u001B[38;5;66;03m# N size weight matrix\u001B[39;00m\n\u001B[0;32m     31\u001B[0m \u001B[38;5;28mself\u001B[39m\u001B[38;5;241m.\u001B[39mweight_matrix \u001B[38;5;241m=\u001B[39m np\u001B[38;5;241m.\u001B[39marray(weight_matrix, dtype\u001B[38;5;241m=\u001B[39m\u001B[38;5;124m\"\u001B[39m\u001B[38;5;124mfloat\u001B[39m\u001B[38;5;124m\"\u001B[39m)\n",
      "\u001B[1;31mIndexError\u001B[0m: index 0 is out of bounds for axis 0 with size 0"
     ]
    }
   ],
   "execution_count": 2
  },
  {
   "metadata": {
    "ExecuteTime": {
     "end_time": "2024-05-19T19:06:38.811098Z",
     "start_time": "2024-05-19T19:06:38.641612Z"
    }
   },
   "cell_type": "code",
   "source": [
    "df = pd.read_csv(\"Data_t.csv\")\n",
    "df.head()"
   ],
   "id": "321ab4d3305d5bc6",
   "outputs": [
    {
     "data": {
      "text/plain": [
       "   Unnamed: 0    degree  closeness  betwennes  influence\n",
       "0           0  0.013599   0.420360   0.000375        0.0\n",
       "1           1  0.000186   0.295970   0.000000        0.0\n",
       "2           2  0.413376   0.619361   0.018321        1.0\n",
       "3           3  0.435358   0.629899   0.020473        1.0\n",
       "4           4  0.178651   0.506224   0.003627        0.0"
      ],
      "text/html": [
       "<div>\n",
       "<style scoped>\n",
       "    .dataframe tbody tr th:only-of-type {\n",
       "        vertical-align: middle;\n",
       "    }\n",
       "\n",
       "    .dataframe tbody tr th {\n",
       "        vertical-align: top;\n",
       "    }\n",
       "\n",
       "    .dataframe thead th {\n",
       "        text-align: right;\n",
       "    }\n",
       "</style>\n",
       "<table border=\"1\" class=\"dataframe\">\n",
       "  <thead>\n",
       "    <tr style=\"text-align: right;\">\n",
       "      <th></th>\n",
       "      <th>Unnamed: 0</th>\n",
       "      <th>degree</th>\n",
       "      <th>closeness</th>\n",
       "      <th>betwennes</th>\n",
       "      <th>influence</th>\n",
       "    </tr>\n",
       "  </thead>\n",
       "  <tbody>\n",
       "    <tr>\n",
       "      <th>0</th>\n",
       "      <td>0</td>\n",
       "      <td>0.013599</td>\n",
       "      <td>0.420360</td>\n",
       "      <td>0.000375</td>\n",
       "      <td>0.0</td>\n",
       "    </tr>\n",
       "    <tr>\n",
       "      <th>1</th>\n",
       "      <td>1</td>\n",
       "      <td>0.000186</td>\n",
       "      <td>0.295970</td>\n",
       "      <td>0.000000</td>\n",
       "      <td>0.0</td>\n",
       "    </tr>\n",
       "    <tr>\n",
       "      <th>2</th>\n",
       "      <td>2</td>\n",
       "      <td>0.413376</td>\n",
       "      <td>0.619361</td>\n",
       "      <td>0.018321</td>\n",
       "      <td>1.0</td>\n",
       "    </tr>\n",
       "    <tr>\n",
       "      <th>3</th>\n",
       "      <td>3</td>\n",
       "      <td>0.435358</td>\n",
       "      <td>0.629899</td>\n",
       "      <td>0.020473</td>\n",
       "      <td>1.0</td>\n",
       "    </tr>\n",
       "    <tr>\n",
       "      <th>4</th>\n",
       "      <td>4</td>\n",
       "      <td>0.178651</td>\n",
       "      <td>0.506224</td>\n",
       "      <td>0.003627</td>\n",
       "      <td>0.0</td>\n",
       "    </tr>\n",
       "  </tbody>\n",
       "</table>\n",
       "</div>"
      ]
     },
     "execution_count": 3,
     "metadata": {},
     "output_type": "execute_result"
    }
   ],
   "execution_count": 3
  },
  {
   "metadata": {
    "ExecuteTime": {
     "end_time": "2024-05-19T19:06:42.082705Z",
     "start_time": "2024-05-19T19:06:42.066860Z"
    }
   },
   "cell_type": "code",
   "source": "df = df.drop('Unnamed: 0', axis=1)",
   "id": "3a33dc7ad1c156ee",
   "outputs": [],
   "execution_count": 4
  },
  {
   "metadata": {
    "ExecuteTime": {
     "end_time": "2024-05-19T19:06:44.534975Z",
     "start_time": "2024-05-19T19:06:44.506507Z"
    }
   },
   "cell_type": "code",
   "source": "df.head()",
   "id": "4ca6fb735f1521c8",
   "outputs": [
    {
     "data": {
      "text/plain": [
       "     degree  closeness  betwennes  influence\n",
       "0  0.013599   0.420360   0.000375        0.0\n",
       "1  0.000186   0.295970   0.000000        0.0\n",
       "2  0.413376   0.619361   0.018321        1.0\n",
       "3  0.435358   0.629899   0.020473        1.0\n",
       "4  0.178651   0.506224   0.003627        0.0"
      ],
      "text/html": [
       "<div>\n",
       "<style scoped>\n",
       "    .dataframe tbody tr th:only-of-type {\n",
       "        vertical-align: middle;\n",
       "    }\n",
       "\n",
       "    .dataframe tbody tr th {\n",
       "        vertical-align: top;\n",
       "    }\n",
       "\n",
       "    .dataframe thead th {\n",
       "        text-align: right;\n",
       "    }\n",
       "</style>\n",
       "<table border=\"1\" class=\"dataframe\">\n",
       "  <thead>\n",
       "    <tr style=\"text-align: right;\">\n",
       "      <th></th>\n",
       "      <th>degree</th>\n",
       "      <th>closeness</th>\n",
       "      <th>betwennes</th>\n",
       "      <th>influence</th>\n",
       "    </tr>\n",
       "  </thead>\n",
       "  <tbody>\n",
       "    <tr>\n",
       "      <th>0</th>\n",
       "      <td>0.013599</td>\n",
       "      <td>0.420360</td>\n",
       "      <td>0.000375</td>\n",
       "      <td>0.0</td>\n",
       "    </tr>\n",
       "    <tr>\n",
       "      <th>1</th>\n",
       "      <td>0.000186</td>\n",
       "      <td>0.295970</td>\n",
       "      <td>0.000000</td>\n",
       "      <td>0.0</td>\n",
       "    </tr>\n",
       "    <tr>\n",
       "      <th>2</th>\n",
       "      <td>0.413376</td>\n",
       "      <td>0.619361</td>\n",
       "      <td>0.018321</td>\n",
       "      <td>1.0</td>\n",
       "    </tr>\n",
       "    <tr>\n",
       "      <th>3</th>\n",
       "      <td>0.435358</td>\n",
       "      <td>0.629899</td>\n",
       "      <td>0.020473</td>\n",
       "      <td>1.0</td>\n",
       "    </tr>\n",
       "    <tr>\n",
       "      <th>4</th>\n",
       "      <td>0.178651</td>\n",
       "      <td>0.506224</td>\n",
       "      <td>0.003627</td>\n",
       "      <td>0.0</td>\n",
       "    </tr>\n",
       "  </tbody>\n",
       "</table>\n",
       "</div>"
      ]
     },
     "execution_count": 5,
     "metadata": {},
     "output_type": "execute_result"
    }
   ],
   "execution_count": 5
  },
  {
   "metadata": {
    "ExecuteTime": {
     "end_time": "2024-05-19T19:06:49.001200Z",
     "start_time": "2024-05-19T19:06:48.978823Z"
    }
   },
   "cell_type": "code",
   "source": [
    "degree = df['degree'].values\n",
    "closeness = df['closeness'].values\n",
    "betwennes = df['betwennes'].values\n",
    "degree"
   ],
   "id": "5f6690c1efa165c4",
   "outputs": [
    {
     "data": {
      "text/plain": [
       "array([1.35991058e-02, 1.86289121e-04, 4.13375559e-01, ...,\n",
       "       5.21609538e-03, 7.63785395e-03, 5.58867362e-03])"
      ]
     },
     "execution_count": 6,
     "metadata": {},
     "output_type": "execute_result"
    }
   ],
   "execution_count": 6
  },
  {
   "metadata": {
    "ExecuteTime": {
     "end_time": "2024-05-19T19:35:29.179278Z",
     "start_time": "2024-05-19T19:35:28.993559Z"
    }
   },
   "cell_type": "code",
   "source": [
    "evaluation1_matrix = np.zeros(shape=(len(betwennes), 3))\n",
    "for d, c, b in zip(degree,closeness,betwennes):\n",
    "    included= [d,c,b]\n",
    "    included = np.array(included)\n",
    "    evaluation1_matrix = np.vstack((evaluation1_matrix, included))\n"
   ],
   "id": "4929ba224e89d2be",
   "outputs": [],
   "execution_count": 12
  },
  {
   "metadata": {
    "ExecuteTime": {
     "end_time": "2024-05-19T19:06:55.753154Z",
     "start_time": "2024-05-19T19:06:55.741958Z"
    }
   },
   "cell_type": "code",
   "source": "evaluation1_matrix = evaluation1_matrix[1:]",
   "id": "f5198ceed942fb38",
   "outputs": [],
   "execution_count": 8
  },
  {
   "metadata": {
    "ExecuteTime": {
     "end_time": "2024-05-19T19:35:39.174090Z",
     "start_time": "2024-05-19T19:35:39.160561Z"
    }
   },
   "cell_type": "code",
   "source": [
    "weights = [1, 1, 1]\n",
    "\n",
    "'''\n",
    "if higher value is preferred - True\n",
    "if lower value is preferred - False\n",
    "'''\n",
    "criterias = np.array([True, True, True])"
   ],
   "id": "61f7cba858315992",
   "outputs": [],
   "execution_count": 13
  },
  {
   "metadata": {
    "ExecuteTime": {
     "end_time": "2024-05-19T19:35:52.086321Z",
     "start_time": "2024-05-19T19:35:51.525349Z"
    }
   },
   "cell_type": "code",
   "source": [
    "t = Topsis(evaluation1_matrix, weights, criterias)\n",
    "\n",
    "t.calc()\n",
    "\n",
    "# print(\"best_distance\\t\", t.best_distance)\n",
    "# print(\"worst_distance\\t\", t.worst_distance)\n",
    "\n",
    "# print(\"weighted_normalized\",t.weighted_normalized)\n",
    "\n",
    "wors = t.rank_to_worst_similarity()\n",
    "\n",
    "#t.best_similarity)\n",
    "best = t.rank_to_best_similarity()\n",
    "print(wors[1])\n",
    "print(best[0])"
   ],
   "id": "f3e30affbc155ac1",
   "outputs": [
    {
     "name": "stdout",
     "output_type": "stream",
     "text": [
      "Step 1\n",
      " [[0.00000000e+00 0.00000000e+00 0.00000000e+00]\n",
      " [0.00000000e+00 0.00000000e+00 0.00000000e+00]\n",
      " [0.00000000e+00 0.00000000e+00 0.00000000e+00]\n",
      " ...\n",
      " [5.21609538e-03 4.15608548e-01 3.72186863e-08]\n",
      " [7.63785395e-03 4.16414553e-01 2.63024636e-07]\n",
      " [5.58867362e-03 4.15672913e-01 7.35969115e-08]]\n",
      "\n",
      "Step 2\n",
      " [[0.00000000e+00 0.00000000e+00 0.00000000e+00]\n",
      " [0.00000000e+00 0.00000000e+00 0.00000000e+00]\n",
      " [0.00000000e+00 0.00000000e+00 0.00000000e+00]\n",
      " ...\n",
      " [1.70867556e-03 1.50051583e-02 2.78005899e-07]\n",
      " [2.50198921e-03 1.50342584e-02 1.96466903e-06]\n",
      " [1.83072381e-03 1.50074821e-02 5.49733953e-07]]\n",
      "\n",
      "Step 3\n",
      " [[0.00000000e+00 0.00000000e+00 0.00000000e+00]\n",
      " [0.00000000e+00 0.00000000e+00 0.00000000e+00]\n",
      " [0.00000000e+00 0.00000000e+00 0.00000000e+00]\n",
      " ...\n",
      " [5.69558519e-04 5.00171943e-03 9.26686329e-08]\n",
      " [8.33996403e-04 5.01141945e-03 6.54889678e-07]\n",
      " [6.10241271e-04 5.00249405e-03 1.83244651e-07]]\n",
      "\n",
      "Step 4\n",
      " [0. 0. 0.] [0.06143095 0.00836816 0.09032255]\n",
      "\n",
      "Step 5\n",
      " [0.         0.         0.         ... 0.00503404 0.00508034 0.00503958] [0.10955342 0.10955342 0.10955342 ... 0.108966   0.10881775 0.10894318]\n",
      "\n",
      "Step 6\n",
      " [0.         0.         0.         ... 0.04415826 0.04460428 0.04421351] [1.         1.         1.         ... 0.95584174 0.95539572 0.95578649]\n",
      "\n",
      "3584\n",
      "5419\n"
     ]
    }
   ],
   "execution_count": 15
  },
  {
   "metadata": {},
   "cell_type": "code",
   "outputs": [],
   "execution_count": null,
   "source": "",
   "id": "d41a2518751f4a9b"
  }
 ],
 "metadata": {
  "kernelspec": {
   "display_name": "Python 3",
   "language": "python",
   "name": "python3"
  },
  "language_info": {
   "codemirror_mode": {
    "name": "ipython",
    "version": 2
   },
   "file_extension": ".py",
   "mimetype": "text/x-python",
   "name": "python",
   "nbconvert_exporter": "python",
   "pygments_lexer": "ipython2",
   "version": "2.7.6"
  }
 },
 "nbformat": 4,
 "nbformat_minor": 5
}
