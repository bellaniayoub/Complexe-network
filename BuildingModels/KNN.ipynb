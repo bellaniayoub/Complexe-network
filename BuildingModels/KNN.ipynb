{
 "cells": [
  {
   "cell_type": "code",
   "id": "initial_id",
   "metadata": {
    "collapsed": true,
    "ExecuteTime": {
     "end_time": "2024-05-15T16:03:20.173262Z",
     "start_time": "2024-05-15T16:03:18.914295Z"
    }
   },
   "source": [
    "import pandas as pd\n",
    "import networkx as nx\n",
    "import numpy as np\n",
    "from sklearn.model_selection import train_test_split\n",
    "from sklearn.preprocessing import StandardScaler\n",
    "from sklearn.neighbors import KNeighborsClassifier\n",
    "from sklearn.metrics import confusion_matrix\n",
    "from sklearn.metrics import f1_score\n",
    "from sklearn.metrics import accuracy_score"
   ],
   "execution_count": 3,
   "outputs": []
  },
  {
   "metadata": {
    "ExecuteTime": {
     "end_time": "2024-05-15T16:02:52.620676Z",
     "start_time": "2024-05-15T16:02:52.522885Z"
    }
   },
   "cell_type": "code",
   "source": [
    "df = pd.read_csv(\"econ-beacxc.mtx\", sep=' ')\n",
    "df.head()"
   ],
   "id": "c37c65631ee074bb",
   "execution_count": 2,
   "outputs": []
  },
  {
   "metadata": {
    "ExecuteTime": {
     "end_time": "2024-05-15T16:03:25.067886Z",
     "start_time": "2024-05-15T16:03:24.808790Z"
    }
   },
   "cell_type": "code",
   "source": "G = nx.from_pandas_edgelist(df, \"Source\", \"Target\")",
   "id": "6ae741bf985f7875",
   "execution_count": 4,
   "outputs": []
  },
  {
   "metadata": {
    "ExecuteTime": {
     "end_time": "2024-05-15T16:03:47.587874Z",
     "start_time": "2024-05-15T16:03:38.412309Z"
    }
   },
   "cell_type": "code",
   "source": "nx.draw(G)",
   "id": "afc0614b7d823944",
   "execution_count": 5,
   "outputs": []
  },
  {
   "metadata": {
    "ExecuteTime": {
     "end_time": "2024-05-15T16:45:54.633695Z",
     "start_time": "2024-05-15T16:45:24.666867Z"
    }
   },
   "cell_type": "code",
   "source": [
    "degree_centrality = nx.degree_centrality(G)\n",
    "closeness_centrality = nx.closeness_centrality(G)\n",
    "betweeness_centrality = nx.betweenness_centrality(G)"
   ],
   "id": "7e8a681aea987443",
   "execution_count": 6,
   "outputs": []
  },
  {
   "metadata": {
    "ExecuteTime": {
     "end_time": "2024-05-15T16:45:54.646471Z",
     "start_time": "2024-05-15T16:45:54.638112Z"
    }
   },
   "cell_type": "code",
   "source": "data = pd.DataFrame({\"degree\":[], \"closeness\":[], \"betwennes\":[], \"influence\":[]})",
   "id": "1f934d9056f95d6a",
   "execution_count": 7,
   "outputs": []
  },
  {
   "metadata": {
    "ExecuteTime": {
     "end_time": "2024-05-15T16:46:09.368173Z",
     "start_time": "2024-05-15T16:46:08.667687Z"
    }
   },
   "cell_type": "code",
   "source": [
    "for d, c, b in zip(list(degree_centrality.values()),list(closeness_centrality.values()),list(betweeness_centrality.values())):\n",
    "    included = [d,c,b, (d+c+b)/3]\n",
    "    data.loc[len(data)] = included"
   ],
   "id": "2213882da3404cef",
   "execution_count": 8,
   "outputs": []
  },
  {
   "metadata": {
    "ExecuteTime": {
     "end_time": "2024-05-15T16:46:22.138035Z",
     "start_time": "2024-05-15T16:46:22.124194Z"
    }
   },
   "cell_type": "code",
   "source": [
    "avg_influence = data['influence'].mean()\n",
    "data.loc[data['influence'] >=2*avg_influence , 'influence'] = 1\n",
    "data.loc[data['influence'] <2*avg_influence , 'influence'] = 0"
   ],
   "id": "e07c35f9bc79febb",
   "execution_count": 9,
   "outputs": []
  },
  {
   "metadata": {
    "ExecuteTime": {
     "end_time": "2024-05-15T16:46:31.339649Z",
     "start_time": "2024-05-15T16:46:31.309776Z"
    }
   },
   "cell_type": "code",
   "source": "data.head()",
   "id": "650b656803ea76bb",
   "execution_count": 10,
   "outputs": []
  },
  {
   "metadata": {
    "ExecuteTime": {
     "end_time": "2024-05-15T16:46:46.624547Z",
     "start_time": "2024-05-15T16:46:46.605291Z"
    }
   },
   "cell_type": "code",
   "source": [
    "X = data.iloc[:, :-1].values\n",
    "Y = data.iloc[:, -1].values"
   ],
   "id": "5e6a396d02445b09",
   "execution_count": 11,
   "outputs": []
  },
  {
   "metadata": {
    "ExecuteTime": {
     "end_time": "2024-05-15T16:47:29.128815Z",
     "start_time": "2024-05-15T16:47:28.876837Z"
    }
   },
   "cell_type": "code",
   "source": [
    "from imblearn.over_sampling import RandomOverSampler\n",
    "\n",
    "over= RandomOverSampler()\n",
    "X,Y= over.fit_resample(X,Y)"
   ],
   "id": "38b3521fe9d826b5",
   "execution_count": 14,
   "outputs": []
  },
  {
   "metadata": {
    "ExecuteTime": {
     "end_time": "2024-05-15T16:47:39.203448Z",
     "start_time": "2024-05-15T16:47:39.187320Z"
    }
   },
   "cell_type": "code",
   "source": [
    "def Scaling(X):\n",
    "    scaler = StandardScaler()\n",
    "    X=scaler.fit_transform(X)\n",
    "    return X\n",
    "Scaling(X)"
   ],
   "id": "42fc287ac19f9dc1",
   "execution_count": 15,
   "outputs": []
  },
  {
   "metadata": {
    "ExecuteTime": {
     "end_time": "2024-05-15T16:48:10.178648Z",
     "start_time": "2024-05-15T16:48:10.171246Z"
    }
   },
   "cell_type": "code",
   "source": "classifier = KNeighborsClassifier(n_neighbors=11, p=2,metric='euclidean')",
   "id": "9400989ce40d7606",
   "execution_count": 16,
   "outputs": []
  },
  {
   "metadata": {
    "ExecuteTime": {
     "end_time": "2024-05-15T16:48:43.029788Z",
     "start_time": "2024-05-15T16:48:43.013658Z"
    }
   },
   "cell_type": "code",
   "source": "X_train, X_test, y_train, y_test = train_test_split(X, Y, test_size=0.25, random_state=42)",
   "id": "9f0c1bf597deaf12",
   "execution_count": 18,
   "outputs": []
  },
  {
   "metadata": {
    "ExecuteTime": {
     "end_time": "2024-05-15T16:48:44.104300Z",
     "start_time": "2024-05-15T16:48:44.077956Z"
    }
   },
   "cell_type": "code",
   "source": "classifier.fit(X_train, y_train)",
   "id": "bd3025872bb9c522",
   "execution_count": 19,
   "outputs": []
  },
  {
   "metadata": {
    "ExecuteTime": {
     "end_time": "2024-05-15T16:48:54.467123Z",
     "start_time": "2024-05-15T16:48:54.436405Z"
    }
   },
   "cell_type": "code",
   "source": [
    "y_pred = classifier.predict(X_test)\n",
    "y_pred"
   ],
   "id": "2d216bcce730febf",
   "execution_count": 20,
   "outputs": []
  },
  {
   "metadata": {
    "ExecuteTime": {
     "end_time": "2024-05-15T16:49:10.434816Z",
     "start_time": "2024-05-15T16:49:10.408537Z"
    }
   },
   "cell_type": "code",
   "source": [
    "cm = confusion_matrix(y_test, y_pred)\n",
    "print (cm)\n",
    "print(f1_score(y_test, y_pred))"
   ],
   "id": "81e5742199a96d22",
   "execution_count": 21,
   "outputs": []
  },
  {
   "metadata": {},
   "cell_type": "code",
   "execution_count": null,
   "source": "",
   "id": "82aa2d6360627cd3",
   "outputs": []
  }
 ],
 "metadata": {
  "kernelspec": {
   "display_name": "Python 3",
   "language": "python",
   "name": "python3"
  },
  "language_info": {
   "codemirror_mode": {
    "name": "ipython",
    "version": 2
   },
   "file_extension": ".py",
   "mimetype": "text/x-python",
   "name": "python",
   "nbconvert_exporter": "python",
   "pygments_lexer": "ipython2",
   "version": "2.7.6"
  }
 },
 "nbformat": 4,
 "nbformat_minor": 5
}
