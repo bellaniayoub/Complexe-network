{
 "cells": [
  {
   "cell_type": "code",
   "execution_count": null,
   "metadata": {
    "colab": {
     "base_uri": "https://localhost:8080/"
    },
    "id": "SCoUAaXrZghk",
    "outputId": "a31c78cd-45b8-45c3-9366-001c7c1c7a43"
   },
   "source": [
    "!pip install python-louvain"
   ],
   "outputs": []
  },
  {
   "cell_type": "markdown",
   "metadata": {
    "id": "mxQ04oteLUlX"
   },
   "source": [
    "-- Importation des bibliothèques et packages importants"
   ]
  },
  {
   "cell_type": "code",
   "execution_count": 38,
   "metadata": {
    "id": "_pT-PQEbK3yp"
   },
   "source": [
    "import pandas as pd\n",
    "import numpy as np\n",
    "import networkx as nx\n",
    "from sklearn import metrics\n",
    "from sklearn.metrics import silhouette_score, adjusted_rand_score\n",
    "import community\n",
    "from community import community_louvain\n",
    "from networkx.algorithms.community import asyn_lpa_communities\n",
    "import matplotlib.pyplot as plt\n",
    "from random import randint\n",
    "from sklearn.preprocessing import normalize\n",
    "from sklearn.cluster import KMeans, DBSCAN\n",
    "from sklearn.mixture import GaussianMixture\n",
    "import numpy as np\n",
    "from sklearn.preprocessing import StandardScaler\n",
    "\n",
    "%matplotlib inline"
   ],
   "outputs": []
  },
  {
   "cell_type": "markdown",
   "metadata": {
    "id": "_gpscpq8LrfJ"
   },
   "source": [
    "-- Importation et Préparation des données"
   ]
  },
  {
   "cell_type": "code",
   "execution_count": 39,
   "metadata": {
    "colab": {
     "base_uri": "https://localhost:8080/",
     "height": 424
    },
    "id": "PfwyKWBqLqW_",
    "outputId": "5bf2ac85-d00c-4f72-dd64-f548b928b052"
   },
   "source": [
    "facebook = pd.read_csv(\"out.facebook-wosn-links\", sep=' ', names=['source', 'target', 'status', 'timestamp'],nrows=1000)\n",
    "facebook"
   ],
   "outputs": []
  },
  {
   "cell_type": "code",
   "execution_count": 40,
   "metadata": {
    "id": "JuI0bTy3VEnV"
   },
   "source": [
    "# Supprimer les lignes avec des valeurs non numériques\n",
    "facebook = facebook[pd.to_numeric(facebook['source'], errors='coerce').notnull()]\n",
    "facebook = facebook[pd.to_numeric(facebook['target'], errors='coerce').notnull()]"
   ],
   "outputs": []
  },
  {
   "cell_type": "code",
   "execution_count": 41,
   "metadata": {
    "id": "OWmWj1aGMF4d"
   },
   "source": [
    "G = nx.from_pandas_edgelist(facebook, \"source\", \"target\")"
   ],
   "outputs": []
  },
  {
   "cell_type": "code",
   "execution_count": 42,
   "metadata": {
    "colab": {
     "base_uri": "https://localhost:8080/",
     "height": 676
    },
    "id": "TEVzy9yOMMqZ",
    "outputId": "8c5af4a8-9234-45f7-e246-76ab9cb102cb"
   },
   "source": [
    "plt.figure(figsize=(10, 6))\n",
    "nx.draw(G, with_labels=False, node_size=100, font_size=8)\n",
    "plt.title(\"Graphe des amitiés sur Facebook (échantillon)\")\n"
   ],
   "outputs": []
  },
  {
   "cell_type": "code",
   "execution_count": 43,
   "metadata": {
    "colab": {
     "base_uri": "https://localhost:8080/"
    },
    "id": "q_24xGAGMaYN",
    "outputId": "9f3d6540-5b1a-4833-ab3c-e62328eb76f1"
   },
   "source": [
    "print (f\"Nombre des noeuds : {G.number_of_nodes()}\")\n",
    "print (f\"Nombre des aretes : {G.number_of_edges()}\")"
   ],
   "outputs": []
  },
  {
   "cell_type": "code",
   "execution_count": 44,
   "metadata": {
    "colab": {
     "base_uri": "https://localhost:8080/"
    },
    "id": "JLy6yy8oNMUy",
    "outputId": "b35361a4-beb4-4ff6-dbb6-acfe9fc77ea4"
   },
   "source": [
    "features = facebook[['source', 'target' , 'status']]\n",
    "scaler = StandardScaler()\n",
    "feature_matrix = scaler.fit_transform(features)\n",
    "print(\"\",feature_matrix)"
   ],
   "outputs": []
  },
  {
   "cell_type": "code",
   "execution_count": 45,
   "metadata": {
    "id": "CdENpWZSg8lH"
   },
   "source": [
    "# Créer une matrice d'adjacence binaire pour la relation \"friend\" entre les paires de nœuds\n",
    "adjacency_matrix = np.asarray(nx.to_numpy_array(G, dtype=int))"
   ],
   "outputs": []
  },
  {
   "cell_type": "markdown",
   "metadata": {
    "id": "zUHysSwKU4MN"
   },
   "source": [
    "# **Utilisation des Algorithmes de Clustring pour détecter les communautées :**"
   ]
  },
  {
   "cell_type": "markdown",
   "metadata": {
    "id": "p-y9n0aEORJD"
   },
   "source": "-- Application de l'algorithme  **K-means** :"
  },
  {
   "cell_type": "code",
   "execution_count": 46,
   "metadata": {
    "colab": {
     "base_uri": "https://localhost:8080/",
     "height": 489
    },
    "id": "jbYRnh0rUyHF",
    "outputId": "ded31c30-6851-4df8-ba4a-fb14e74ceaf9"
   },
   "source": [
    "# Liste des nombres de clusters à tester\n",
    "num_clusters_list = range(2, 11)  # Vous pouvez ajuster cette plage selon vos besoins\n",
    "\n",
    "# Stocker les scores de silhouette pour chaque nombre de clusters\n",
    "silhouette_scores = []\n",
    "\n",
    "# Essayer différents nombres de clusters\n",
    "for num_clusters in num_clusters_list:\n",
    "    gmm = GaussianMixture(n_components=num_clusters, random_state=42)\n",
    "    cluster_labels = gmm.fit_predict(adjacency_matrix)\n",
    "    silhouette_avg = silhouette_score(adjacency_matrix, cluster_labels)\n",
    "    silhouette_scores.append(silhouette_avg)\n",
    "\n",
    "# Trouver l'indice du maximum dans la liste des scores de silhouette\n",
    "optimal_num_clusters = num_clusters_list[np.argmax(silhouette_scores)]\n",
    "\n",
    "# Tracer la courbe des scores de silhouette en fonction du nombre de clusters\n",
    "plt.plot(num_clusters_list, silhouette_scores, marker='o')\n",
    "plt.xlabel('Nombre de Clusters')\n",
    "plt.ylabel('Score de Silhouette')\n",
    "plt.title('Méthode de l\\'Indice de Silhouette pour Trouver le Nombre Optimal de Clusters')\n",
    "plt.show()\n",
    "\n",
    "# Afficher le nombre optimal de clusters\n",
    "print(f'Le nombre optimal de clusters est : {optimal_num_clusters}')"
   ],
   "outputs": []
  },
  {
   "cell_type": "code",
   "execution_count": 47,
   "metadata": {
    "colab": {
     "base_uri": "https://localhost:8080/",
     "height": 948
    },
    "id": "r_I0E2BiNxFP",
    "outputId": "925a40b3-1b3c-498e-9226-1e90b9c6857e"
   },
   "source": [
    "kmeans = KMeans(n_clusters=optimal_num_clusters)\n",
    "node_labels = kmeans.fit_predict(adjacency_matrix)\n",
    "kmeans_labels = kmeans.labels_\n",
    "\n",
    "# Visualisation des resultats\n",
    "\n",
    "unique_labels = np.unique(node_labels)\n",
    "color_map = plt.cm.get_cmap('viridis', len(unique_labels))\n",
    "\n",
    "plt.figure(figsize=(10, 8))\n",
    "nx.draw(G, with_labels=False, font_weight='bold', node_size=100, node_color=node_labels, cmap=color_map)\n",
    "plt.title('Resultats de Clustring K-Means')\n",
    "plt.show()\n"
   ],
   "outputs": []
  },
  {
   "cell_type": "markdown",
   "metadata": {
    "id": "P4ivL53FREjT"
   },
   "source": [
    "-- Application de l'algorithme  **DBSCAN** :"
   ]
  },
  {
   "cell_type": "code",
   "execution_count": 48,
   "metadata": {
    "colab": {
     "base_uri": "https://localhost:8080/",
     "height": 859
    },
    "id": "HDAY9x9iRWyd",
    "outputId": "a7ac56b5-9204-4730-ab0d-27523cefb6b7"
   },
   "source": [
    "dbscan = DBSCAN(eps=0.5, min_samples=5)\n",
    "dbscan_labels = dbscan.fit_predict(adjacency_matrix)\n",
    "\n",
    "# Visualisation des resultats\n",
    "plt.figure(figsize=(10, 8))\n",
    "nx.draw(G, with_labels=False, font_weight='bold', node_size=50, node_color=dbscan_labels, cmap='viridis')\n",
    "plt.title('Resultats de Clustring avec DBSCAN')\n",
    "plt.show()"
   ],
   "outputs": []
  },
  {
   "cell_type": "code",
   "execution_count": 49,
   "metadata": {
    "id": "snqidAxjhoOo",
    "colab": {
     "base_uri": "https://localhost:8080/"
    },
    "outputId": "b5112a5c-ee2f-41ec-f982-e9b0e5c65ecf"
   },
   "source": [
    "from sklearn.mixture import GaussianMixture\n",
    "\n",
    "# Essayez différentes valeurs pour le nombre de composants\n",
    "components_range = range(1, 11)\n",
    "bic_scores = []\n",
    "\n",
    "for num_components in components_range:\n",
    "    gmm = GaussianMixture(n_components=num_components, random_state=42)\n",
    "    gmm.fit(adjacency_matrix)\n",
    "    bic_scores.append(gmm.bic(adjacency_matrix))\n",
    "\n",
    "# Trouvez le nombre optimal de composants qui minimise le score BIC\n",
    "optimal_components = components_range[np.argmax(bic_scores)]\n",
    "optimal_components"
   ],
   "outputs": []
  },
  {
   "cell_type": "markdown",
   "metadata": {
    "id": "RHjM_HM9UeuI"
   },
   "source": [
    "-- Application de l'algorithme **GMM** :"
   ]
  },
  {
   "cell_type": "code",
   "execution_count": 50,
   "metadata": {
    "colab": {
     "base_uri": "https://localhost:8080/",
     "height": 859
    },
    "id": "dRbfpRpVUo4-",
    "outputId": "a1d8efba-ce0e-4e1d-d023-0b00500d26ba"
   },
   "source": [
    "\n",
    "# Appliquer le modèle de mélange gaussien (GMM) pour effectuer le clustering\n",
    "num_clusters = 4\n",
    "gmm = GaussianMixture(n_components=num_clusters, random_state=42)\n",
    "labels = gmm.fit_predict(adjacency_matrix)\n",
    "\n",
    "# Assign cluster labels to nodes\n",
    "node_colors = {node: label for node, label in zip(G.nodes, labels)}\n",
    "\n",
    "# Plot the graph with node colors based on the GMM clusters\n",
    "pos = nx.spring_layout(G)\n",
    "plt.figure(figsize=(10, 8))\n",
    "nx.draw(G, with_labels=False, font_weight='bold', node_size=50, node_color=node_labels, cmap='viridis')\n",
    "plt.title(\"Graph with Node Colors Based on GMM Clusters\")\n",
    "plt.show()"
   ],
   "outputs": []
  },
  {
   "cell_type": "markdown",
   "metadata": {
    "id": "S3Tgc--nVO7G"
   },
   "source": [
    "# **Utilisation des méthodes classiques pour détecter les communautés :**"
   ]
  },
  {
   "cell_type": "markdown",
   "metadata": {
    "id": "rxWXpQPtVmdF"
   },
   "source": [
    "-- Application de l'algorithme  **Label Propagation** :"
   ]
  },
  {
   "cell_type": "code",
   "execution_count": 51,
   "metadata": {
    "colab": {
     "base_uri": "https://localhost:8080/",
     "height": 521
    },
    "id": "zzoUH8wLVlGn",
    "outputId": "aa379831-f4e8-4f29-e265-7500dfb85446"
   },
   "source": [
    "lb_communities = list(asyn_lpa_communities(G))\n",
    "lb_part = [i for i, comm in enumerate(lb_communities) for _ in comm]\n",
    "\n",
    "# Visualisation des résultats\n",
    "\n",
    "plt.figure(figsize=(8, 6))\n",
    "plt.title('Label Propagation Community Detection')\n",
    "node_colors = [i for i, comm in enumerate(lb_communities) for _ in comm]\n",
    "pos = nx.spring_layout(G, seed=42)\n",
    "nx.draw(G, pos, with_labels=False, node_color=node_colors, cmap=plt.cm.tab10, node_size=300, edge_color='gray')\n",
    "plt.show()"
   ],
   "outputs": []
  },
  {
   "cell_type": "markdown",
   "metadata": {
    "id": "3ryPoqj-Z09j"
   },
   "source": [
    "-- Application de l'algorithme **Louvain**"
   ]
  },
  {
   "cell_type": "code",
   "execution_count": 52,
   "metadata": {
    "colab": {
     "base_uri": "https://localhost:8080/",
     "height": 859
    },
    "id": "pM6qGjWJZU3h",
    "outputId": "987e5158-41fd-40c4-c540-93bfde586a99"
   },
   "source": [
    "louvain_partition = community_louvain.best_partition(G)\n",
    "louvain_part= [i for i, comm in enumerate(louvain_partition) for _ in comm]\n",
    "\n",
    "# Visualisation des résultats\n",
    "\n",
    "pos = nx.spring_layout(G)\n",
    "colors = [louvain_partition[node] for node in G.nodes]\n",
    "\n",
    "plt.figure(figsize=(10, 8))\n",
    "nx.draw(G, pos, with_labels=False, node_color=node_colors, cmap=plt.cm.tab10, node_size=300, edge_color='gray')\n",
    "plt.title(\"Louvain Community Detection\")\n",
    "plt.show()"
   ],
   "outputs": []
  },
  {
   "cell_type": "code",
   "execution_count": 53,
   "metadata": {
    "colab": {
     "base_uri": "https://localhost:8080/",
     "height": 859
    },
    "id": "-mJUd3VAXQXI",
    "outputId": "f4982f79-bb2d-43c6-cd69-dbc29bb7a5fe"
   },
   "source": [
    "def girvan_newman(G):\n",
    "    communities = list(nx.connected_components(G))\n",
    "    while len(communities) == 1:\n",
    "        edge_betweenness = nx.edge_betweenness_centrality(G)\n",
    "        max_betweenness = max(edge_betweenness.values())\n",
    "        edges_to_remove = [edge for edge, centrality in edge_betweenness.items() if centrality == max_betweenness]\n",
    "        G.remove_edges_from(edges_to_remove)\n",
    "        communities = list(nx.connected_components(G))\n",
    "    return communities\n",
    "\n",
    "Girvan_Newman_communities = girvan_newman(G)\n",
    "gn_part= [i for i, comm in enumerate(Girvan_Newman_communities) for _ in comm]\n",
    "\n",
    "# Visualization\n",
    "pos = nx.spring_layout(G)\n",
    "colors = [i for node in G.nodes() for i, comm in enumerate(Girvan_Newman_communities) if node in comm]\n",
    "\n",
    "plt.figure(figsize=(10, 8))\n",
    "nx.draw(G, pos, with_labels=False, font_weight='bold', node_color=colors, cmap=plt.cm.tab10, node_size=300, edge_color='gray')\n",
    "plt.title(\"Girvan-Newman Community Detection\")\n",
    "plt.show()\n"
   ],
   "outputs": []
  },
  {
   "cell_type": "markdown",
   "metadata": {
    "id": "AqRTa1oOvfxj"
   },
   "source": [
    "# **Evaluation des algorithmes **"
   ]
  },
  {
   "cell_type": "markdown",
   "metadata": {
    "id": "sAZWqJ3dO1JI"
   },
   "source": [
    "**Silhouette Score**"
   ]
  },
  {
   "cell_type": "code",
   "execution_count": 54,
   "metadata": {
    "colab": {
     "base_uri": "https://localhost:8080/",
     "height": 89
    },
    "id": "p7Blw3LHu17W",
    "outputId": "e9d9bd33-b38f-4524-bae3-c8c61793f668"
   },
   "source": [
    "\n",
    "silhouette_kmeans = silhouette_score(adjacency_matrix, node_labels)\n",
    "\n",
    "silhouette_dbscan = silhouette_score(adjacency_matrix,dbscan_labels)\n",
    "\n",
    "silhouette_gmm = silhouette_score(adjacency_matrix, labels)\n",
    "\n",
    "silhouette_lb = silhouette_score(feature_matrix[0:823],  lb_part )\n",
    "\n",
    "silhouette_louvain = silhouette_score(feature_matrix, louvain_part[:len(feature_matrix)])\n",
    "\n",
    "silhouette_GN = silhouette_score(feature_matrix[0:823], gn_part)\n",
    "\n",
    "silhouette_scores ={ 'K-Means': [silhouette_kmeans] , 'DBSCAN' : [silhouette_dbscan] , 'GMM' : [silhouette_gmm] , 'Label Propagation': [silhouette_lb] , 'Louvain' : [silhouette_louvain] , 'Girvan-Newman': [silhouette_GN]}\n",
    "silhouette_scores_df = pd.DataFrame(silhouette_scores, index=['Silhouette Score'])\n",
    "silhouette_scores_df"
   ],
   "outputs": []
  },
  {
   "cell_type": "markdown",
   "metadata": {
    "id": "clAyESypPAp8"
   },
   "source": [
    "**Adjusted Rand Score**( comparaison des algorithmes de clustring avec l'algorithme classique Girvan-Newman  )"
   ]
  },
  {
   "cell_type": "code",
   "execution_count": 55,
   "metadata": {
    "colab": {
     "base_uri": "https://localhost:8080/",
     "height": 89
    },
    "id": "9XhlAGAk4OKF",
    "outputId": "d9fd8911-94c3-471b-bad0-98a399053830"
   },
   "source": [
    "ari_gn_kmeans = adjusted_rand_score(gn_part, kmeans_labels[0:823])\n",
    "\n",
    "ari_gn_dbscan = adjusted_rand_score(gn_part, dbscan_labels)\n",
    "\n",
    "ari_gn_gmm = adjusted_rand_score(gn_part, labels[0:823])\n",
    "\n",
    "ari_scores ={'K-means':[ari_gn_kmeans],'DBSCAN':[ari_gn_dbscan] ,'GMM':[ari_gn_gmm]}\n",
    "ari_scores_df= pd.DataFrame(ari_scores,index=['Adjusted Rand score'])\n",
    "ari_scores_df"
   ],
   "outputs": []
  },
  {
   "cell_type": "markdown",
   "metadata": {
    "id": "NfhdBvOCaYxS"
   },
   "source": [
    "# **Les mesures de centralités :**"
   ]
  },
  {
   "cell_type": "markdown",
   "metadata": {
    "id": "i7LgF9Zpahs1"
   },
   "source": [
    "Centralité de Degré :"
   ]
  },
  {
   "cell_type": "code",
   "execution_count": 56,
   "metadata": {
    "colab": {
     "base_uri": "https://localhost:8080/"
    },
    "id": "tUhtmCO6bHbX",
    "outputId": "6da07ba7-fcec-46ad-b65f-e4bb3260e97b"
   },
   "source": [
    "degree_centrality = nx.degree_centrality(G)\n",
    "(sorted(G.degree, key=lambda item: item[1], reverse=True))[:10]"
   ],
   "outputs": []
  },
  {
   "cell_type": "code",
   "execution_count": 57,
   "metadata": {
    "id": "LZzgjLrlchom",
    "colab": {
     "base_uri": "https://localhost:8080/",
     "height": 775
    },
    "outputId": "574777c6-2478-4ac7-f2cd-8356ce7c028e"
   },
   "source": [
    "plt.figure(figsize=(15, 8))\n",
    "plt.hist(degree_centrality.values(), bins=25)\n",
    "plt.xticks(ticks=[0, 0.025, 0.05, 0.1, 0.15, 0.2])  # set the x axis ticks\n",
    "plt.title(\"Degree Centrality Histogram \", fontdict={\"size\": 35}, loc=\"center\")\n",
    "plt.xlabel(\"Degree Centrality\", fontdict={\"size\": 20})\n",
    "plt.ylabel(\"Counts\", fontdict={\"size\": 20})"
   ],
   "outputs": []
  },
  {
   "cell_type": "markdown",
   "metadata": {
    "id": "BbpMvUF7g8lX"
   },
   "source": [
    "###  les utilisateurs avec le plus haut degré de centralité de par la taille de leurs nœuds :"
   ]
  },
  {
   "cell_type": "code",
   "execution_count": 58,
   "metadata": {
    "colab": {
     "base_uri": "https://localhost:8080/",
     "height": 722
    },
    "id": "fJw6we3Ig8lX",
    "outputId": "008ede7d-dd85-405e-ea45-a2459dd29aba"
   },
   "source": [
    "node_size = [\n",
    "    v * 1000 for v in degree_centrality.values()\n",
    "]  # set up nodes size for a nice graph representation\n",
    "plt.figure(figsize=(15, 8))\n",
    "nx.draw_networkx(G, pos=pos, node_size=node_size, with_labels=False, width=0.15)\n",
    "plt.axis(\"off\")"
   ],
   "outputs": []
  },
  {
   "cell_type": "markdown",
   "metadata": {
    "id": "XvxdXQzhdHFj"
   },
   "source": [
    "Centralité de vecteur propre :"
   ]
  },
  {
   "cell_type": "code",
   "execution_count": 59,
   "metadata": {
    "colab": {
     "base_uri": "https://localhost:8080/"
    },
    "id": "yBX8iJipdGKd",
    "outputId": "29a50a81-62eb-4952-afa7-32dcd9e49f94"
   },
   "source": [
    "eigenvector_centrality = nx.eigenvector_centrality(G)\n",
    "(sorted(eigenvector_centrality.items(), key=lambda item: item[1], reverse=True))[:10]"
   ],
   "outputs": []
  },
  {
   "cell_type": "code",
   "execution_count": null,
   "metadata": {
    "id": "NTVdcYXOdy9v"
   },
   "source": [],
   "outputs": []
  },
  {
   "cell_type": "markdown",
   "metadata": {
    "id": "pl_DSd8McUpU"
   },
   "source": [
    "Centralité de Proximité :"
   ]
  },
  {
   "cell_type": "code",
   "execution_count": 60,
   "metadata": {
    "colab": {
     "base_uri": "https://localhost:8080/"
    },
    "id": "ysRKfb5kcgCf",
    "outputId": "bb080889-e6d8-45e8-a094-4b07fd192c93"
   },
   "source": [
    "closeness_centrality = nx.closeness_centrality(G)\n",
    "(sorted(closeness_centrality.items(), key=lambda item: item[1], reverse=True))[:10]"
   ],
   "outputs": []
  },
  {
   "cell_type": "markdown",
   "metadata": {
    "id": "VLQLzXmxdzpd"
   },
   "source": [
    "###  la répartition des centralités de proximité :"
   ]
  },
  {
   "cell_type": "code",
   "execution_count": 61,
   "metadata": {
    "colab": {
     "base_uri": "https://localhost:8080/",
     "height": 775
    },
    "id": "UdViIhFHg8lw",
    "outputId": "983051e7-6c79-4946-d425-da6aca6941cd"
   },
   "source": [
    "plt.figure(figsize=(15, 8))\n",
    "plt.hist(closeness_centrality.values(), bins=60)\n",
    "plt.title(\"Closeness Centrality Histogram \", fontdict={\"size\": 35}, loc=\"center\")\n",
    "plt.xlabel(\"Closeness Centrality\", fontdict={\"size\": 20})\n",
    "plt.ylabel(\"Counts\", fontdict={\"size\": 20})"
   ],
   "outputs": []
  },
  {
   "cell_type": "markdown",
   "metadata": {
    "id": "C5b4S0QEg8lx"
   },
   "source": [
    "### certaines communautés situées plus loin, dont les nœuds auraient les centralités de proximité minimales, comme on le voit ci-dessous :"
   ]
  },
  {
   "cell_type": "code",
   "execution_count": 62,
   "metadata": {
    "colab": {
     "base_uri": "https://localhost:8080/",
     "height": 722
    },
    "id": "kYWjnXdag8lx",
    "outputId": "dac043ae-948b-4200-8363-8e941977e250"
   },
   "source": [
    "node_size = [\n",
    "    v * 50 for v in closeness_centrality.values()\n",
    "]  # set up nodes size for a nice graph representation\n",
    "plt.figure(figsize=(15, 8))\n",
    "nx.draw_networkx(G, pos=pos, node_size=node_size, with_labels=False, width=0.15)\n",
    "plt.axis(\"off\")"
   ],
   "outputs": []
  },
  {
   "cell_type": "markdown",
   "metadata": {
    "id": "tFWEvdmhcy8c"
   },
   "source": [
    "Centralité d'intermédiarité"
   ]
  },
  {
   "cell_type": "code",
   "execution_count": 63,
   "metadata": {
    "colab": {
     "base_uri": "https://localhost:8080/"
    },
    "id": "ZQTJm9VNculu",
    "outputId": "ef082560-93f6-465e-fa7a-8fe33c45fc60"
   },
   "source": [
    "betweenness_centrality = nx.betweenness_centrality(G)\n",
    "(sorted(betweenness_centrality.items(), key=lambda item: item[1], reverse=True))[:10]"
   ],
   "outputs": []
  },
  {
   "cell_type": "code",
   "execution_count": 64,
   "metadata": {
    "colab": {
     "base_uri": "https://localhost:8080/",
     "height": 775
    },
    "id": "SBZ7EVotg8ly",
    "outputId": "73a9e40a-f876-44ee-97d1-ecce26a053c2"
   },
   "source": [
    "plt.figure(figsize=(15, 8))\n",
    "plt.hist(betweenness_centrality.values(), bins=100)\n",
    "plt.xticks(ticks=[0, 0.02, 0.1, 0.2, 0.3, 0.4, 0.5])  # set the x axis ticks\n",
    "plt.title(\"Betweenness Centrality Histogram \", fontdict={\"size\": 35}, loc=\"center\")\n",
    "plt.xlabel(\"Betweenness Centrality\", fontdict={\"size\": 20})\n",
    "plt.ylabel(\"Counts\", fontdict={\"size\": 20})"
   ],
   "outputs": []
  },
  {
   "cell_type": "markdown",
   "metadata": {
    "id": "P2e1Ryu5d0Sd"
   },
   "source": [
    "### image sur les nœuds avec les centralités intermédiaires les plus élevées et où ils se trouvent dans le réseau. Il est clair qu’ils constituent des ponts d’une communauté à une autre :"
   ]
  },
  {
   "cell_type": "code",
   "execution_count": 65,
   "metadata": {
    "colab": {
     "base_uri": "https://localhost:8080/",
     "height": 722
    },
    "id": "jW4SYtMXg8lz",
    "outputId": "b5e635ea-1a13-4b88-cb06-fe31ab6ce8e9"
   },
   "source": [
    "node_size = [\n",
    "    v * 1200 for v in betweenness_centrality.values()\n",
    "]  # set up nodes size for a nice graph representation\n",
    "plt.figure(figsize=(15, 8))\n",
    "nx.draw_networkx(G, pos=pos, node_size=node_size, with_labels=False, width=0.15)\n",
    "plt.axis(\"off\")"
   ],
   "outputs": []
  },
  {
   "cell_type": "code",
   "execution_count": null,
   "metadata": {
    "id": "0MtGkMMTg8lz"
   },
   "source": [],
   "outputs": []
  }
 ],
 "metadata": {
  "colab": {
   "provenance": []
  },
  "kernelspec": {
   "display_name": "Python 3 (ipykernel)",
   "language": "python",
   "name": "python3"
  },
  "language_info": {
   "codemirror_mode": {
    "name": "ipython",
    "version": 3
   },
   "file_extension": ".py",
   "mimetype": "text/x-python",
   "name": "python",
   "nbconvert_exporter": "python",
   "pygments_lexer": "ipython3",
   "version": "3.8.0"
  }
 },
 "nbformat": 4,
 "nbformat_minor": 0
}
