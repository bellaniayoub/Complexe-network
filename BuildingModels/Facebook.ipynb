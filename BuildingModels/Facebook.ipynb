{
 "cells": [
  {
   "cell_type": "code",
   "id": "initial_id",
   "metadata": {
    "collapsed": true,
    "ExecuteTime": {
     "end_time": "2024-05-22T12:24:42.890413Z",
     "start_time": "2024-05-22T12:24:40.716041Z"
    }
   },
   "source": [
    "import networkx as nx\n",
    "import pandas as pd\n",
    "import numpy as np"
   ],
   "outputs": [],
   "execution_count": 1
  },
  {
   "metadata": {
    "ExecuteTime": {
     "end_time": "2024-05-22T12:25:23.353994Z",
     "start_time": "2024-05-22T12:25:23.293724Z"
    }
   },
   "cell_type": "code",
   "source": "df = pd.read_csv(\"facebook_combined.txt\", sep=\" \")",
   "id": "89caf9fd5acb8fb6",
   "outputs": [],
   "execution_count": 2
  },
  {
   "metadata": {
    "ExecuteTime": {
     "end_time": "2024-05-22T12:25:26.709097Z",
     "start_time": "2024-05-22T12:25:26.686377Z"
    }
   },
   "cell_type": "code",
   "source": "df.head()",
   "id": "c3ceb79d36047d88",
   "outputs": [
    {
     "data": {
      "text/plain": [
       "   0  1\n",
       "0  0  2\n",
       "1  0  3\n",
       "2  0  4\n",
       "3  0  5\n",
       "4  0  6"
      ],
      "text/html": [
       "<div>\n",
       "<style scoped>\n",
       "    .dataframe tbody tr th:only-of-type {\n",
       "        vertical-align: middle;\n",
       "    }\n",
       "\n",
       "    .dataframe tbody tr th {\n",
       "        vertical-align: top;\n",
       "    }\n",
       "\n",
       "    .dataframe thead th {\n",
       "        text-align: right;\n",
       "    }\n",
       "</style>\n",
       "<table border=\"1\" class=\"dataframe\">\n",
       "  <thead>\n",
       "    <tr style=\"text-align: right;\">\n",
       "      <th></th>\n",
       "      <th>0</th>\n",
       "      <th>1</th>\n",
       "    </tr>\n",
       "  </thead>\n",
       "  <tbody>\n",
       "    <tr>\n",
       "      <th>0</th>\n",
       "      <td>0</td>\n",
       "      <td>2</td>\n",
       "    </tr>\n",
       "    <tr>\n",
       "      <th>1</th>\n",
       "      <td>0</td>\n",
       "      <td>3</td>\n",
       "    </tr>\n",
       "    <tr>\n",
       "      <th>2</th>\n",
       "      <td>0</td>\n",
       "      <td>4</td>\n",
       "    </tr>\n",
       "    <tr>\n",
       "      <th>3</th>\n",
       "      <td>0</td>\n",
       "      <td>5</td>\n",
       "    </tr>\n",
       "    <tr>\n",
       "      <th>4</th>\n",
       "      <td>0</td>\n",
       "      <td>6</td>\n",
       "    </tr>\n",
       "  </tbody>\n",
       "</table>\n",
       "</div>"
      ]
     },
     "execution_count": 3,
     "metadata": {},
     "output_type": "execute_result"
    }
   ],
   "execution_count": 3
  },
  {
   "metadata": {
    "ExecuteTime": {
     "end_time": "2024-05-22T12:27:29.294413Z",
     "start_time": "2024-05-22T12:27:29.027869Z"
    }
   },
   "cell_type": "code",
   "source": "G = nx.from_pandas_edgelist(df, source='0', target='1')",
   "id": "6646b9a3d6819ef4",
   "outputs": [],
   "execution_count": 6
  },
  {
   "metadata": {
    "ExecuteTime": {
     "end_time": "2024-05-22T12:35:17.319281Z",
     "start_time": "2024-05-22T12:28:49.701260Z"
    }
   },
   "cell_type": "code",
   "source": [
    "degree = nx.degree_centrality(G)\n",
    "closeness = nx.closeness_centrality(G)\n",
    "betweeens = nx.betweenness_centrality(G)"
   ],
   "id": "f90c7524bb2c9087",
   "outputs": [],
   "execution_count": 7
  },
  {
   "metadata": {
    "ExecuteTime": {
     "end_time": "2024-05-22T12:37:26.532040Z",
     "start_time": "2024-05-22T12:37:26.514181Z"
    }
   },
   "cell_type": "code",
   "source": "data = pd.DataFrame({\"degree\":[],\"closeness\":[],\"betweeens\":[],\"influence\":[]})",
   "id": "7f71e00821bc49ad",
   "outputs": [],
   "execution_count": 9
  },
  {
   "metadata": {
    "ExecuteTime": {
     "end_time": "2024-05-22T12:38:40.591810Z",
     "start_time": "2024-05-22T12:38:36.428616Z"
    }
   },
   "cell_type": "code",
   "source": [
    "for d, c, b in zip(list(degree.values()),list(closeness.values()),list(betweeens.values())):\n",
    "    included = [d,c,b, (d+c+b)/3]\n",
    "    data.loc[len(data)] = included"
   ],
   "id": "9580d21003d1e874",
   "outputs": [],
   "execution_count": 10
  },
  {
   "metadata": {
    "ExecuteTime": {
     "end_time": "2024-05-22T12:40:39.153575Z",
     "start_time": "2024-05-22T12:40:39.131580Z"
    }
   },
   "cell_type": "code",
   "source": "data.head()",
   "id": "4c48dfec6a9589cc",
   "outputs": [
    {
     "data": {
      "text/plain": [
       "     degree  closeness     betweeens  influence\n",
       "0  0.085686   0.353312  1.461432e-01   0.195047\n",
       "1  0.002476   0.261241  7.595021e-08   0.087906\n",
       "2  0.004210   0.261376  1.700964e-06   0.088529\n",
       "3  0.002476   0.261241  1.840332e-07   0.087906\n",
       "4  0.003219   0.261308  2.220416e-06   0.088177"
      ],
      "text/html": [
       "<div>\n",
       "<style scoped>\n",
       "    .dataframe tbody tr th:only-of-type {\n",
       "        vertical-align: middle;\n",
       "    }\n",
       "\n",
       "    .dataframe tbody tr th {\n",
       "        vertical-align: top;\n",
       "    }\n",
       "\n",
       "    .dataframe thead th {\n",
       "        text-align: right;\n",
       "    }\n",
       "</style>\n",
       "<table border=\"1\" class=\"dataframe\">\n",
       "  <thead>\n",
       "    <tr style=\"text-align: right;\">\n",
       "      <th></th>\n",
       "      <th>degree</th>\n",
       "      <th>closeness</th>\n",
       "      <th>betweeens</th>\n",
       "      <th>influence</th>\n",
       "    </tr>\n",
       "  </thead>\n",
       "  <tbody>\n",
       "    <tr>\n",
       "      <th>0</th>\n",
       "      <td>0.085686</td>\n",
       "      <td>0.353312</td>\n",
       "      <td>1.461432e-01</td>\n",
       "      <td>0.195047</td>\n",
       "    </tr>\n",
       "    <tr>\n",
       "      <th>1</th>\n",
       "      <td>0.002476</td>\n",
       "      <td>0.261241</td>\n",
       "      <td>7.595021e-08</td>\n",
       "      <td>0.087906</td>\n",
       "    </tr>\n",
       "    <tr>\n",
       "      <th>2</th>\n",
       "      <td>0.004210</td>\n",
       "      <td>0.261376</td>\n",
       "      <td>1.700964e-06</td>\n",
       "      <td>0.088529</td>\n",
       "    </tr>\n",
       "    <tr>\n",
       "      <th>3</th>\n",
       "      <td>0.002476</td>\n",
       "      <td>0.261241</td>\n",
       "      <td>1.840332e-07</td>\n",
       "      <td>0.087906</td>\n",
       "    </tr>\n",
       "    <tr>\n",
       "      <th>4</th>\n",
       "      <td>0.003219</td>\n",
       "      <td>0.261308</td>\n",
       "      <td>2.220416e-06</td>\n",
       "      <td>0.088177</td>\n",
       "    </tr>\n",
       "  </tbody>\n",
       "</table>\n",
       "</div>"
      ]
     },
     "execution_count": 11,
     "metadata": {},
     "output_type": "execute_result"
    }
   ],
   "execution_count": 11
  },
  {
   "metadata": {
    "ExecuteTime": {
     "end_time": "2024-05-22T12:41:02.869939Z",
     "start_time": "2024-05-22T12:41:02.764135Z"
    }
   },
   "cell_type": "code",
   "source": "data.to_csv(\"Data_Facebook.csv\")",
   "id": "571466d51af71dc9",
   "outputs": [],
   "execution_count": 12
  },
  {
   "metadata": {},
   "cell_type": "code",
   "outputs": [],
   "execution_count": null,
   "source": "",
   "id": "fd382950cd7794f4"
  }
 ],
 "metadata": {
  "kernelspec": {
   "display_name": "Python 3",
   "language": "python",
   "name": "python3"
  },
  "language_info": {
   "codemirror_mode": {
    "name": "ipython",
    "version": 2
   },
   "file_extension": ".py",
   "mimetype": "text/x-python",
   "name": "python",
   "nbconvert_exporter": "python",
   "pygments_lexer": "ipython2",
   "version": "2.7.6"
  }
 },
 "nbformat": 4,
 "nbformat_minor": 5
}
